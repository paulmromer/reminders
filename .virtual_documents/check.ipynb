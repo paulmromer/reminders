from pathlib import Path


for p in Path('.').rglob(".DS_Store"):
    print(p)
    p.unlink()

for f in (Path('.') / "scripts").iterdir():
    if f.name == ".DS_Store":
        print(f)
        f.unlink()
    else:
        f.write_text(f.read_text().replace("python3", "python"))




