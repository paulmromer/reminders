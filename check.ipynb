{
 "cells": [
  {
   "cell_type": "code",
   "execution_count": 1,
   "id": "2a378e0e-97ea-409d-87a2-7b7122184c05",
   "metadata": {},
   "outputs": [],
   "source": [
    "from pathlib import Path"
   ]
  },
  {
   "cell_type": "code",
   "execution_count": 2,
   "id": "af73ada1-9359-4c02-99d4-df586b551f9c",
   "metadata": {},
   "outputs": [],
   "source": [
    "for p in Path('.').rglob(\".DS_Store\"):\n",
    "    print(p)\n",
    "    p.unlink()\n",
    "\n",
    "for f in (Path('.') / \"scripts\").iterdir():\n",
    "    if f.name == \".DS_Store\":\n",
    "        print(f)\n",
    "        f.unlink()\n",
    "    else:\n",
    "        f.write_text(f.read_text().replace(\"python3\", \"python\"))\n"
   ]
  },
  {
   "cell_type": "code",
   "execution_count": null,
   "id": "6f0b5fc3-e54b-4dce-ba60-e6d4637d891b",
   "metadata": {},
   "outputs": [],
   "source": []
  }
 ],
 "metadata": {
  "kernelspec": {
   "display_name": "Python 3 (ipykernel)",
   "language": "python",
   "name": "python3"
  },
  "language_info": {
   "codemirror_mode": {
    "name": "ipython",
    "version": 3
   },
   "file_extension": ".py",
   "mimetype": "text/x-python",
   "name": "python",
   "nbconvert_exporter": "python",
   "pygments_lexer": "ipython3",
   "version": "3.12.8"
  }
 },
 "nbformat": 4,
 "nbformat_minor": 5
}
